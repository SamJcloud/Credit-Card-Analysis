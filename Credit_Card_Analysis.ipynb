{
 "cells": [
  {
   "cell_type": "markdown",
   "id": "3164116a-ee89-4d40-9e6a-0c601c0993af",
   "metadata": {},
   "source": [
    "# This notebook analyzes credit card customer behavior using spend, repayment, and acquisition data."
   ]
  },
  {
   "cell_type": "markdown",
   "id": "e00ed4d9-9a61-4804-91f6-4c8eec8bffc6",
   "metadata": {},
   "source": [
    "### Libraries"
   ]
  },
  {
   "cell_type": "code",
   "execution_count": 1,
   "id": "1b7dea64-5f71-439d-ae7a-4c0f8581474f",
   "metadata": {},
   "outputs": [],
   "source": [
    "import pandas as pd\n",
    "import numpy as np\n",
    "import matplotlib.pyplot as plt\n",
    "import seaborn as sns"
   ]
  },
  {
   "cell_type": "markdown",
   "id": "1613e1ba-e54e-46fd-a449-c161e073a16c",
   "metadata": {},
   "source": [
    "### Reading the datasets"
   ]
  },
  {
   "cell_type": "code",
   "execution_count": 2,
   "id": "1f93c2c7-52f3-4052-af65-696eb1dde7e7",
   "metadata": {},
   "outputs": [
    {
     "name": "stdout",
     "output_type": "stream",
     "text": [
      "Customer Acquisition dataset size = (100, 8)\n",
      "Spend dataset size = (1500, 5)\n",
      "Repayment dataset size = (1523, 5)\n"
     ]
    }
   ],
   "source": [
    "customer_acquisition = pd.read_csv('Customer Acqusition.csv')\n",
    "spend = pd.read_csv('spend.csv')\n",
    "repayment = pd.read_csv('Repayment.csv')\n",
    "print(f'Customer Acquisition dataset size = {customer_acquisition.shape}')\n",
    "print(f'Spend dataset size = {spend.shape}')\n",
    "print(f'Repayment dataset size = {repayment.shape}')"
   ]
  },
  {
   "cell_type": "markdown",
   "id": "9284e4a5-bca8-411b-9771-f4fe4fd36ad3",
   "metadata": {},
   "source": [
    "### Exploring the Customer Acquistion dataset"
   ]
  },
  {
   "cell_type": "code",
   "execution_count": 3,
   "id": "8d9ae5c1-a059-41f7-9dea-8798b7c55479",
   "metadata": {},
   "outputs": [
    {
     "data": {
      "text/html": [
       "<div>\n",
       "<style scoped>\n",
       "    .dataframe tbody tr th:only-of-type {\n",
       "        vertical-align: middle;\n",
       "    }\n",
       "\n",
       "    .dataframe tbody tr th {\n",
       "        vertical-align: top;\n",
       "    }\n",
       "\n",
       "    .dataframe thead th {\n",
       "        text-align: right;\n",
       "    }\n",
       "</style>\n",
       "<table border=\"1\" class=\"dataframe\">\n",
       "  <thead>\n",
       "    <tr style=\"text-align: right;\">\n",
       "      <th></th>\n",
       "      <th>No</th>\n",
       "      <th>Customer</th>\n",
       "      <th>Age</th>\n",
       "      <th>City</th>\n",
       "      <th>Product</th>\n",
       "      <th>Limit</th>\n",
       "      <th>Company</th>\n",
       "      <th>Segment</th>\n",
       "    </tr>\n",
       "  </thead>\n",
       "  <tbody>\n",
       "    <tr>\n",
       "      <th>0</th>\n",
       "      <td>1</td>\n",
       "      <td>A1</td>\n",
       "      <td>76</td>\n",
       "      <td>BANGALORE</td>\n",
       "      <td>Gold</td>\n",
       "      <td>500000.0</td>\n",
       "      <td>C1</td>\n",
       "      <td>Self Employed</td>\n",
       "    </tr>\n",
       "    <tr>\n",
       "      <th>1</th>\n",
       "      <td>2</td>\n",
       "      <td>A2</td>\n",
       "      <td>71</td>\n",
       "      <td>CALCUTTA</td>\n",
       "      <td>Silver</td>\n",
       "      <td>100000.0</td>\n",
       "      <td>C2</td>\n",
       "      <td>Salaried_MNC</td>\n",
       "    </tr>\n",
       "    <tr>\n",
       "      <th>2</th>\n",
       "      <td>3</td>\n",
       "      <td>A3</td>\n",
       "      <td>34</td>\n",
       "      <td>COCHIN</td>\n",
       "      <td>Platimum</td>\n",
       "      <td>10000.0</td>\n",
       "      <td>C3</td>\n",
       "      <td>Salaried_Pvt</td>\n",
       "    </tr>\n",
       "    <tr>\n",
       "      <th>3</th>\n",
       "      <td>4</td>\n",
       "      <td>A4</td>\n",
       "      <td>47</td>\n",
       "      <td>BOMBAY</td>\n",
       "      <td>Platimum</td>\n",
       "      <td>10001.0</td>\n",
       "      <td>C4</td>\n",
       "      <td>Govt</td>\n",
       "    </tr>\n",
       "    <tr>\n",
       "      <th>4</th>\n",
       "      <td>5</td>\n",
       "      <td>A5</td>\n",
       "      <td>56</td>\n",
       "      <td>BANGALORE</td>\n",
       "      <td>Platimum</td>\n",
       "      <td>10002.0</td>\n",
       "      <td>C5</td>\n",
       "      <td>Normal Salary</td>\n",
       "    </tr>\n",
       "  </tbody>\n",
       "</table>\n",
       "</div>"
      ],
      "text/plain": [
       "   No Customer  Age       City   Product     Limit Company        Segment\n",
       "0   1       A1   76  BANGALORE      Gold  500000.0      C1  Self Employed\n",
       "1   2       A2   71   CALCUTTA    Silver  100000.0      C2   Salaried_MNC\n",
       "2   3       A3   34     COCHIN  Platimum   10000.0      C3   Salaried_Pvt\n",
       "3   4       A4   47     BOMBAY  Platimum   10001.0      C4           Govt\n",
       "4   5       A5   56  BANGALORE  Platimum   10002.0      C5  Normal Salary"
      ]
     },
     "execution_count": 3,
     "metadata": {},
     "output_type": "execute_result"
    }
   ],
   "source": [
    "customer_acquisition.head()"
   ]
  },
  {
   "cell_type": "code",
   "execution_count": 4,
   "id": "2ed19f43-f119-496c-afc2-9c6588b369e9",
   "metadata": {},
   "outputs": [],
   "source": [
    "customer_acquisition['Product'] = customer_acquisition['Product'].str.replace('Platimum','Platinum')"
   ]
  },
  {
   "cell_type": "code",
   "execution_count": 5,
   "id": "535ef544-30e7-4508-a633-8ef6b7016a56",
   "metadata": {},
   "outputs": [
    {
     "data": {
      "text/html": [
       "<div>\n",
       "<style scoped>\n",
       "    .dataframe tbody tr th:only-of-type {\n",
       "        vertical-align: middle;\n",
       "    }\n",
       "\n",
       "    .dataframe tbody tr th {\n",
       "        vertical-align: top;\n",
       "    }\n",
       "\n",
       "    .dataframe thead th {\n",
       "        text-align: right;\n",
       "    }\n",
       "</style>\n",
       "<table border=\"1\" class=\"dataframe\">\n",
       "  <thead>\n",
       "    <tr style=\"text-align: right;\">\n",
       "      <th></th>\n",
       "      <th>No</th>\n",
       "      <th>Customer</th>\n",
       "      <th>Age</th>\n",
       "      <th>City</th>\n",
       "      <th>Product</th>\n",
       "      <th>Limit</th>\n",
       "      <th>Company</th>\n",
       "      <th>Segment</th>\n",
       "    </tr>\n",
       "  </thead>\n",
       "  <tbody>\n",
       "    <tr>\n",
       "      <th>95</th>\n",
       "      <td>96</td>\n",
       "      <td>A96</td>\n",
       "      <td>54</td>\n",
       "      <td>CHENNAI</td>\n",
       "      <td>Silver</td>\n",
       "      <td>100000.0</td>\n",
       "      <td>C19</td>\n",
       "      <td>Salaried_Pvt</td>\n",
       "    </tr>\n",
       "    <tr>\n",
       "      <th>96</th>\n",
       "      <td>97</td>\n",
       "      <td>A97</td>\n",
       "      <td>58</td>\n",
       "      <td>TRIVANDRUM</td>\n",
       "      <td>Platinum</td>\n",
       "      <td>10000.0</td>\n",
       "      <td>C20</td>\n",
       "      <td>Govt</td>\n",
       "    </tr>\n",
       "    <tr>\n",
       "      <th>97</th>\n",
       "      <td>98</td>\n",
       "      <td>A98</td>\n",
       "      <td>51</td>\n",
       "      <td>CALCUTTA</td>\n",
       "      <td>Platinum</td>\n",
       "      <td>10001.0</td>\n",
       "      <td>C21</td>\n",
       "      <td>Normal Salary</td>\n",
       "    </tr>\n",
       "    <tr>\n",
       "      <th>98</th>\n",
       "      <td>99</td>\n",
       "      <td>A99</td>\n",
       "      <td>35</td>\n",
       "      <td>CALCUTTA</td>\n",
       "      <td>Platinum</td>\n",
       "      <td>10002.0</td>\n",
       "      <td>C22</td>\n",
       "      <td>Self Employed</td>\n",
       "    </tr>\n",
       "    <tr>\n",
       "      <th>99</th>\n",
       "      <td>100</td>\n",
       "      <td>A100</td>\n",
       "      <td>36</td>\n",
       "      <td>COCHIN</td>\n",
       "      <td>Silver</td>\n",
       "      <td>100000.0</td>\n",
       "      <td>C5</td>\n",
       "      <td>Salaried_MNC</td>\n",
       "    </tr>\n",
       "  </tbody>\n",
       "</table>\n",
       "</div>"
      ],
      "text/plain": [
       "     No Customer  Age        City   Product     Limit Company        Segment\n",
       "95   96      A96   54     CHENNAI    Silver  100000.0     C19   Salaried_Pvt\n",
       "96   97      A97   58  TRIVANDRUM  Platinum   10000.0     C20           Govt\n",
       "97   98      A98   51    CALCUTTA  Platinum   10001.0     C21  Normal Salary\n",
       "98   99      A99   35    CALCUTTA  Platinum   10002.0     C22  Self Employed\n",
       "99  100     A100   36      COCHIN    Silver  100000.0      C5   Salaried_MNC"
      ]
     },
     "execution_count": 5,
     "metadata": {},
     "output_type": "execute_result"
    }
   ],
   "source": [
    "customer_acquisition.tail()"
   ]
  },
  {
   "cell_type": "code",
   "execution_count": 6,
   "id": "ac517f40-cfb4-463c-9c99-9d60ece00362",
   "metadata": {},
   "outputs": [
    {
     "name": "stdout",
     "output_type": "stream",
     "text": [
      "<class 'pandas.core.frame.DataFrame'>\n",
      "RangeIndex: 100 entries, 0 to 99\n",
      "Data columns (total 8 columns):\n",
      " #   Column    Non-Null Count  Dtype  \n",
      "---  ------    --------------  -----  \n",
      " 0   No        100 non-null    int64  \n",
      " 1   Customer  100 non-null    object \n",
      " 2   Age       100 non-null    int64  \n",
      " 3   City      100 non-null    object \n",
      " 4   Product   100 non-null    object \n",
      " 5   Limit     100 non-null    float64\n",
      " 6   Company   100 non-null    object \n",
      " 7   Segment   100 non-null    object \n",
      "dtypes: float64(1), int64(2), object(5)\n",
      "memory usage: 6.4+ KB\n"
     ]
    }
   ],
   "source": [
    "customer_acquisition.info()"
   ]
  },
  {
   "cell_type": "markdown",
   "id": "b6ea452b-8a81-4894-a34d-589fa9b921d9",
   "metadata": {},
   "source": [
    "The customer acquisition dataset contains the data for 100 customers with information about their age, city, card type, card limit, company and segment."
   ]
  },
  {
   "cell_type": "code",
   "execution_count": 7,
   "id": "7c707fcb-1449-4b72-85dc-d4cf6ca2acc9",
   "metadata": {},
   "outputs": [],
   "source": [
    "customer_acquisition.drop('No',axis = 1,inplace = True) # Dropping 'No' column since it is basically the same as the index."
   ]
  },
  {
   "cell_type": "code",
   "execution_count": 8,
   "id": "7edb8932-b697-45d6-90c1-2e307729a1d6",
   "metadata": {},
   "outputs": [
    {
     "data": {
      "text/plain": [
       "0"
      ]
     },
     "execution_count": 8,
     "metadata": {},
     "output_type": "execute_result"
    }
   ],
   "source": [
    "# checking for duplicated data\n",
    "customer_acquisition.duplicated().sum()"
   ]
  },
  {
   "cell_type": "markdown",
   "id": "74accf67-6bd8-4877-8ab7-e84c30f1f8c9",
   "metadata": {},
   "source": [
    "An output of 0 indicates there are no duplicated data"
   ]
  },
  {
   "cell_type": "markdown",
   "id": "6a9ba076-91e7-4852-94db-76d704157575",
   "metadata": {},
   "source": [
    "### Exploring the Spend dataset"
   ]
  },
  {
   "cell_type": "code",
   "execution_count": 9,
   "id": "4fa5293a-3cb4-488f-82ff-132297e3c6f9",
   "metadata": {},
   "outputs": [
    {
     "data": {
      "text/html": [
       "<div>\n",
       "<style scoped>\n",
       "    .dataframe tbody tr th:only-of-type {\n",
       "        vertical-align: middle;\n",
       "    }\n",
       "\n",
       "    .dataframe tbody tr th {\n",
       "        vertical-align: top;\n",
       "    }\n",
       "\n",
       "    .dataframe thead th {\n",
       "        text-align: right;\n",
       "    }\n",
       "</style>\n",
       "<table border=\"1\" class=\"dataframe\">\n",
       "  <thead>\n",
       "    <tr style=\"text-align: right;\">\n",
       "      <th></th>\n",
       "      <th>Sl No:</th>\n",
       "      <th>Customer</th>\n",
       "      <th>Month</th>\n",
       "      <th>Type</th>\n",
       "      <th>Amount</th>\n",
       "    </tr>\n",
       "  </thead>\n",
       "  <tbody>\n",
       "    <tr>\n",
       "      <th>0</th>\n",
       "      <td>1</td>\n",
       "      <td>A1</td>\n",
       "      <td>12-Jan-04</td>\n",
       "      <td>JEWELLERY</td>\n",
       "      <td>485470.80</td>\n",
       "    </tr>\n",
       "    <tr>\n",
       "      <th>1</th>\n",
       "      <td>2</td>\n",
       "      <td>A1</td>\n",
       "      <td>3-Jan-04</td>\n",
       "      <td>PETRO</td>\n",
       "      <td>410556.13</td>\n",
       "    </tr>\n",
       "    <tr>\n",
       "      <th>2</th>\n",
       "      <td>3</td>\n",
       "      <td>A1</td>\n",
       "      <td>15-Jan-04</td>\n",
       "      <td>CLOTHES</td>\n",
       "      <td>23740.46</td>\n",
       "    </tr>\n",
       "    <tr>\n",
       "      <th>3</th>\n",
       "      <td>4</td>\n",
       "      <td>A1</td>\n",
       "      <td>25-Jan-04</td>\n",
       "      <td>FOOD</td>\n",
       "      <td>484342.47</td>\n",
       "    </tr>\n",
       "    <tr>\n",
       "      <th>4</th>\n",
       "      <td>5</td>\n",
       "      <td>A1</td>\n",
       "      <td>17-Jan-05</td>\n",
       "      <td>CAMERA</td>\n",
       "      <td>369694.07</td>\n",
       "    </tr>\n",
       "  </tbody>\n",
       "</table>\n",
       "</div>"
      ],
      "text/plain": [
       "   Sl No: Customer      Month       Type     Amount\n",
       "0       1       A1  12-Jan-04  JEWELLERY  485470.80\n",
       "1       2       A1   3-Jan-04      PETRO  410556.13\n",
       "2       3       A1  15-Jan-04    CLOTHES   23740.46\n",
       "3       4       A1  25-Jan-04       FOOD  484342.47\n",
       "4       5       A1  17-Jan-05     CAMERA  369694.07"
      ]
     },
     "execution_count": 9,
     "metadata": {},
     "output_type": "execute_result"
    }
   ],
   "source": [
    "spend.head()"
   ]
  },
  {
   "cell_type": "code",
   "execution_count": 10,
   "id": "822df4a0-63be-4c61-ae66-472f3d0403b4",
   "metadata": {},
   "outputs": [
    {
     "name": "stdout",
     "output_type": "stream",
     "text": [
      "<class 'pandas.core.frame.DataFrame'>\n",
      "RangeIndex: 1500 entries, 0 to 1499\n",
      "Data columns (total 5 columns):\n",
      " #   Column    Non-Null Count  Dtype  \n",
      "---  ------    --------------  -----  \n",
      " 0   Sl No:    1500 non-null   int64  \n",
      " 1   Customer  1500 non-null   object \n",
      " 2   Month     1500 non-null   object \n",
      " 3   Type      1500 non-null   object \n",
      " 4   Amount    1500 non-null   float64\n",
      "dtypes: float64(1), int64(1), object(3)\n",
      "memory usage: 58.7+ KB\n"
     ]
    }
   ],
   "source": [
    "spend.info()"
   ]
  },
  {
   "cell_type": "markdown",
   "id": "3e194a62-bf8c-4098-aeeb-ff1166663391",
   "metadata": {},
   "source": [
    "This dataset contains information about the customer's daily spending and the products they purchase  "
   ]
  },
  {
   "cell_type": "code",
   "execution_count": 11,
   "id": "c33b614a-6ce1-4a4a-9755-399854ccba25",
   "metadata": {},
   "outputs": [],
   "source": [
    "spend.drop('Sl No:',axis = 1,inplace = True) # Dropping 'SI No' column since it is the same as the index column"
   ]
  },
  {
   "cell_type": "code",
   "execution_count": 12,
   "id": "d01b6413-42ea-4fba-9db8-c76414f98789",
   "metadata": {},
   "outputs": [
    {
     "data": {
      "text/plain": [
       "0"
      ]
     },
     "execution_count": 12,
     "metadata": {},
     "output_type": "execute_result"
    }
   ],
   "source": [
    "# Checking for duplicates in the Spend dataset\n",
    "spend.duplicated().sum()"
   ]
  },
  {
   "cell_type": "markdown",
   "id": "3aaca89a-b64e-4c61-a878-c56bf7169ff2",
   "metadata": {},
   "source": [
    "### Exploring the Repayment dataset"
   ]
  },
  {
   "cell_type": "code",
   "execution_count": 13,
   "id": "0afc32cb-c33d-4ce1-b9ae-da120b0fc1bd",
   "metadata": {},
   "outputs": [
    {
     "data": {
      "text/html": [
       "<div>\n",
       "<style scoped>\n",
       "    .dataframe tbody tr th:only-of-type {\n",
       "        vertical-align: middle;\n",
       "    }\n",
       "\n",
       "    .dataframe tbody tr th {\n",
       "        vertical-align: top;\n",
       "    }\n",
       "\n",
       "    .dataframe thead th {\n",
       "        text-align: right;\n",
       "    }\n",
       "</style>\n",
       "<table border=\"1\" class=\"dataframe\">\n",
       "  <thead>\n",
       "    <tr style=\"text-align: right;\">\n",
       "      <th></th>\n",
       "      <th>SL No:</th>\n",
       "      <th>Customer</th>\n",
       "      <th>Month</th>\n",
       "      <th>Amount</th>\n",
       "      <th>Unnamed: 4</th>\n",
       "    </tr>\n",
       "  </thead>\n",
       "  <tbody>\n",
       "    <tr>\n",
       "      <th>0</th>\n",
       "      <td>NaN</td>\n",
       "      <td>A1</td>\n",
       "      <td>12-Jan-04</td>\n",
       "      <td>495414.75</td>\n",
       "      <td>NaN</td>\n",
       "    </tr>\n",
       "    <tr>\n",
       "      <th>1</th>\n",
       "      <td>2.0</td>\n",
       "      <td>A1</td>\n",
       "      <td>3-Jan-04</td>\n",
       "      <td>245899.02</td>\n",
       "      <td>NaN</td>\n",
       "    </tr>\n",
       "    <tr>\n",
       "      <th>2</th>\n",
       "      <td>3.0</td>\n",
       "      <td>A1</td>\n",
       "      <td>15-Jan-04</td>\n",
       "      <td>259490.06</td>\n",
       "      <td>NaN</td>\n",
       "    </tr>\n",
       "    <tr>\n",
       "      <th>3</th>\n",
       "      <td>4.0</td>\n",
       "      <td>A1</td>\n",
       "      <td>25-Jan-04</td>\n",
       "      <td>437555.12</td>\n",
       "      <td>NaN</td>\n",
       "    </tr>\n",
       "    <tr>\n",
       "      <th>4</th>\n",
       "      <td>5.0</td>\n",
       "      <td>A1</td>\n",
       "      <td>17-Jan-05</td>\n",
       "      <td>165972.88</td>\n",
       "      <td>NaN</td>\n",
       "    </tr>\n",
       "  </tbody>\n",
       "</table>\n",
       "</div>"
      ],
      "text/plain": [
       "   SL No: Customer      Month     Amount  Unnamed: 4\n",
       "0     NaN       A1  12-Jan-04  495414.75         NaN\n",
       "1     2.0       A1   3-Jan-04  245899.02         NaN\n",
       "2     3.0       A1  15-Jan-04  259490.06         NaN\n",
       "3     4.0       A1  25-Jan-04  437555.12         NaN\n",
       "4     5.0       A1  17-Jan-05  165972.88         NaN"
      ]
     },
     "execution_count": 13,
     "metadata": {},
     "output_type": "execute_result"
    }
   ],
   "source": [
    "repayment.head()"
   ]
  },
  {
   "cell_type": "code",
   "execution_count": 14,
   "id": "d88a83a9-8979-449d-8afd-8d3a283ccbfa",
   "metadata": {},
   "outputs": [
    {
     "data": {
      "text/html": [
       "<div>\n",
       "<style scoped>\n",
       "    .dataframe tbody tr th:only-of-type {\n",
       "        vertical-align: middle;\n",
       "    }\n",
       "\n",
       "    .dataframe tbody tr th {\n",
       "        vertical-align: top;\n",
       "    }\n",
       "\n",
       "    .dataframe thead th {\n",
       "        text-align: right;\n",
       "    }\n",
       "</style>\n",
       "<table border=\"1\" class=\"dataframe\">\n",
       "  <thead>\n",
       "    <tr style=\"text-align: right;\">\n",
       "      <th></th>\n",
       "      <th>SL No:</th>\n",
       "      <th>Customer</th>\n",
       "      <th>Month</th>\n",
       "      <th>Amount</th>\n",
       "      <th>Unnamed: 4</th>\n",
       "    </tr>\n",
       "  </thead>\n",
       "  <tbody>\n",
       "    <tr>\n",
       "      <th>1518</th>\n",
       "      <td>NaN</td>\n",
       "      <td>NaN</td>\n",
       "      <td>NaN</td>\n",
       "      <td>NaN</td>\n",
       "      <td>NaN</td>\n",
       "    </tr>\n",
       "    <tr>\n",
       "      <th>1519</th>\n",
       "      <td>NaN</td>\n",
       "      <td>NaN</td>\n",
       "      <td>NaN</td>\n",
       "      <td>NaN</td>\n",
       "      <td>NaN</td>\n",
       "    </tr>\n",
       "    <tr>\n",
       "      <th>1520</th>\n",
       "      <td>NaN</td>\n",
       "      <td>NaN</td>\n",
       "      <td>NaN</td>\n",
       "      <td>NaN</td>\n",
       "      <td>NaN</td>\n",
       "    </tr>\n",
       "    <tr>\n",
       "      <th>1521</th>\n",
       "      <td>NaN</td>\n",
       "      <td>NaN</td>\n",
       "      <td>NaN</td>\n",
       "      <td>NaN</td>\n",
       "      <td>NaN</td>\n",
       "    </tr>\n",
       "    <tr>\n",
       "      <th>1522</th>\n",
       "      <td>NaN</td>\n",
       "      <td>NaN</td>\n",
       "      <td>NaN</td>\n",
       "      <td>NaN</td>\n",
       "      <td>NaN</td>\n",
       "    </tr>\n",
       "  </tbody>\n",
       "</table>\n",
       "</div>"
      ],
      "text/plain": [
       "      SL No: Customer Month  Amount  Unnamed: 4\n",
       "1518     NaN      NaN   NaN     NaN         NaN\n",
       "1519     NaN      NaN   NaN     NaN         NaN\n",
       "1520     NaN      NaN   NaN     NaN         NaN\n",
       "1521     NaN      NaN   NaN     NaN         NaN\n",
       "1522     NaN      NaN   NaN     NaN         NaN"
      ]
     },
     "execution_count": 14,
     "metadata": {},
     "output_type": "execute_result"
    }
   ],
   "source": [
    "repayment.tail()"
   ]
  },
  {
   "cell_type": "code",
   "execution_count": 15,
   "id": "28ce01cc-cf48-446b-bef7-1914f2c9bf07",
   "metadata": {},
   "outputs": [
    {
     "name": "stdout",
     "output_type": "stream",
     "text": [
      "<class 'pandas.core.frame.DataFrame'>\n",
      "RangeIndex: 1523 entries, 0 to 1522\n",
      "Data columns (total 5 columns):\n",
      " #   Column      Non-Null Count  Dtype  \n",
      "---  ------      --------------  -----  \n",
      " 0   SL No:      1499 non-null   float64\n",
      " 1   Customer    1500 non-null   object \n",
      " 2   Month       1500 non-null   object \n",
      " 3   Amount      1500 non-null   float64\n",
      " 4   Unnamed: 4  0 non-null      float64\n",
      "dtypes: float64(3), object(2)\n",
      "memory usage: 59.6+ KB\n"
     ]
    }
   ],
   "source": [
    "repayment.info()"
   ]
  },
  {
   "cell_type": "markdown",
   "id": "53012f34-78dd-4f0e-846b-7f1e10b27fa0",
   "metadata": {},
   "source": [
    "The repayment dataset has an unnamed column which contains NaN values and it seems this column contains more values (1523) than the rest of the columns (1500)"
   ]
  },
  {
   "cell_type": "code",
   "execution_count": 16,
   "id": "83c5dca0-b82e-45a1-abdd-d2668e436d25",
   "metadata": {},
   "outputs": [],
   "source": [
    "repayment.drop(columns= ['SL No:','Unnamed: 4'],inplace = True) # Dropping both columns because the are not relevant to the dataset"
   ]
  },
  {
   "cell_type": "code",
   "execution_count": 17,
   "id": "a4ee83ef-6112-4529-a32a-b5baa8c9fdf8",
   "metadata": {},
   "outputs": [
    {
     "data": {
      "text/plain": [
       "Customer    23\n",
       "Month       23\n",
       "Amount      23\n",
       "dtype: int64"
      ]
     },
     "execution_count": 17,
     "metadata": {},
     "output_type": "execute_result"
    }
   ],
   "source": [
    "repayment.isna().sum()"
   ]
  },
  {
   "cell_type": "code",
   "execution_count": 18,
   "id": "f382a26f-9be4-4ea2-997e-6b94b6d46e01",
   "metadata": {},
   "outputs": [],
   "source": [
    "repayment.dropna(inplace = True)  # Dropping all NaN rows created by the unnamed column"
   ]
  },
  {
   "cell_type": "code",
   "execution_count": 19,
   "id": "2f9b6839-1c34-4187-8d59-cf05c0b97ddd",
   "metadata": {},
   "outputs": [
    {
     "data": {
      "text/plain": [
       "0"
      ]
     },
     "execution_count": 19,
     "metadata": {},
     "output_type": "execute_result"
    }
   ],
   "source": [
    "repayment.duplicated().sum()"
   ]
  },
  {
   "cell_type": "markdown",
   "id": "09cd761e-f98f-42d9-b82f-e60d2d7e0513",
   "metadata": {},
   "source": [
    "## Changing the currency from Indian Rupees to USD"
   ]
  },
  {
   "cell_type": "markdown",
   "id": "ab663804-5667-4483-b613-a95288018224",
   "metadata": {},
   "source": [
    "The credit card dataset was obtained from specific cities in India but I am changing the currency to USD because it is a more global currency and can be understood by all"
   ]
  },
  {
   "cell_type": "code",
   "execution_count": 20,
   "id": "767e0591-da3d-4670-84e2-9e60d0580813",
   "metadata": {},
   "outputs": [],
   "source": [
    "customer_acquisition['limit_USD'] = customer_acquisition['Limit'] * 0.012\n",
    "spend['Amount_USD'] = spend['Amount'] * 0.012\n",
    "repayment['Amount_USD'] = repayment['Amount'] * 0.012"
   ]
  },
  {
   "cell_type": "markdown",
   "id": "d6672355-9d18-4827-b288-3ba2baf31406",
   "metadata": {},
   "source": [
    "## Dropping the columns that contain Indian currency"
   ]
  },
  {
   "cell_type": "code",
   "execution_count": 21,
   "id": "be3882b5-4e1c-4618-ae09-2d1aad094d63",
   "metadata": {},
   "outputs": [],
   "source": [
    "customer_acquisition.drop('Limit',axis = 1,inplace = True)\n",
    "spend.drop('Amount',axis = 1,inplace = True)\n",
    "repayment.drop('Amount',axis = 1,inplace = True)"
   ]
  },
  {
   "cell_type": "markdown",
   "id": "d8ed6f8e-3011-4a40-89ba-efffbb276cad",
   "metadata": {},
   "source": [
    "### Changing the date format of the Month columns in __spend__ and __repayment__ using pd.to_datetime "
   ]
  },
  {
   "cell_type": "code",
   "execution_count": 22,
   "id": "63b15d5a-73d8-489a-96cf-89422a13953f",
   "metadata": {},
   "outputs": [],
   "source": [
    "spend['Month'] = pd.to_datetime(spend['Month'],format='%d-%b-%y')\n",
    "spend['Month'] = spend['Month'].dt.to_period('M').dt.to_timestamp() # Aggregating into Months"
   ]
  },
  {
   "cell_type": "code",
   "execution_count": 23,
   "id": "03d67e82-4b7e-48d0-91cf-f3b590015d59",
   "metadata": {},
   "outputs": [],
   "source": [
    "repayment['Month'] = pd.to_datetime(repayment['Month'],format='%d-%b-%y')\n",
    "repayment['Month'] = repayment['Month'].dt.to_period('M').dt.to_timestamp() # Aggregating into Months"
   ]
  },
  {
   "cell_type": "markdown",
   "id": "25bac35e-964e-43c7-af51-fdd118757e42",
   "metadata": {},
   "source": [
    "### Merging __spend__ and __repayment__ with __customer acquisition__"
   ]
  },
  {
   "cell_type": "markdown",
   "id": "535f94e0-d8ff-4ce8-a8db-150953864f64",
   "metadata": {},
   "source": [
    "Merging both spend and repayment dataset with customer acquisition to be able to make more inherences regarding age, city, limit and Segment"
   ]
  },
  {
   "cell_type": "code",
   "execution_count": 24,
   "id": "3c511901-a8d0-4eb3-83f3-48ce70de8142",
   "metadata": {},
   "outputs": [],
   "source": [
    "spend_merged = pd.merge(spend,customer_acquisition, on = 'Customer',how='left')\n",
    "repayment_merged = pd.merge(repayment,customer_acquisition,on = 'Customer',how ='left')"
   ]
  },
  {
   "cell_type": "code",
   "execution_count": 25,
   "id": "8f935965-24e8-487a-b607-5a721c0c4a2e",
   "metadata": {},
   "outputs": [
    {
     "data": {
      "text/html": [
       "<div>\n",
       "<style scoped>\n",
       "    .dataframe tbody tr th:only-of-type {\n",
       "        vertical-align: middle;\n",
       "    }\n",
       "\n",
       "    .dataframe tbody tr th {\n",
       "        vertical-align: top;\n",
       "    }\n",
       "\n",
       "    .dataframe thead th {\n",
       "        text-align: right;\n",
       "    }\n",
       "</style>\n",
       "<table border=\"1\" class=\"dataframe\">\n",
       "  <thead>\n",
       "    <tr style=\"text-align: right;\">\n",
       "      <th></th>\n",
       "      <th>Customer</th>\n",
       "      <th>Month</th>\n",
       "      <th>Amount_USD</th>\n",
       "      <th>Age</th>\n",
       "      <th>City</th>\n",
       "      <th>Product</th>\n",
       "      <th>Company</th>\n",
       "      <th>Segment</th>\n",
       "      <th>limit_USD</th>\n",
       "    </tr>\n",
       "  </thead>\n",
       "  <tbody>\n",
       "    <tr>\n",
       "      <th>0</th>\n",
       "      <td>A1</td>\n",
       "      <td>2004-01-01</td>\n",
       "      <td>5944.97700</td>\n",
       "      <td>76</td>\n",
       "      <td>BANGALORE</td>\n",
       "      <td>Gold</td>\n",
       "      <td>C1</td>\n",
       "      <td>Self Employed</td>\n",
       "      <td>6000.0</td>\n",
       "    </tr>\n",
       "    <tr>\n",
       "      <th>1</th>\n",
       "      <td>A1</td>\n",
       "      <td>2004-01-01</td>\n",
       "      <td>2950.78824</td>\n",
       "      <td>76</td>\n",
       "      <td>BANGALORE</td>\n",
       "      <td>Gold</td>\n",
       "      <td>C1</td>\n",
       "      <td>Self Employed</td>\n",
       "      <td>6000.0</td>\n",
       "    </tr>\n",
       "    <tr>\n",
       "      <th>2</th>\n",
       "      <td>A1</td>\n",
       "      <td>2004-01-01</td>\n",
       "      <td>3113.88072</td>\n",
       "      <td>76</td>\n",
       "      <td>BANGALORE</td>\n",
       "      <td>Gold</td>\n",
       "      <td>C1</td>\n",
       "      <td>Self Employed</td>\n",
       "      <td>6000.0</td>\n",
       "    </tr>\n",
       "    <tr>\n",
       "      <th>3</th>\n",
       "      <td>A1</td>\n",
       "      <td>2004-01-01</td>\n",
       "      <td>5250.66144</td>\n",
       "      <td>76</td>\n",
       "      <td>BANGALORE</td>\n",
       "      <td>Gold</td>\n",
       "      <td>C1</td>\n",
       "      <td>Self Employed</td>\n",
       "      <td>6000.0</td>\n",
       "    </tr>\n",
       "    <tr>\n",
       "      <th>4</th>\n",
       "      <td>A1</td>\n",
       "      <td>2005-01-01</td>\n",
       "      <td>1991.67456</td>\n",
       "      <td>76</td>\n",
       "      <td>BANGALORE</td>\n",
       "      <td>Gold</td>\n",
       "      <td>C1</td>\n",
       "      <td>Self Employed</td>\n",
       "      <td>6000.0</td>\n",
       "    </tr>\n",
       "  </tbody>\n",
       "</table>\n",
       "</div>"
      ],
      "text/plain": [
       "  Customer      Month  Amount_USD  Age       City Product Company  \\\n",
       "0       A1 2004-01-01  5944.97700   76  BANGALORE    Gold      C1   \n",
       "1       A1 2004-01-01  2950.78824   76  BANGALORE    Gold      C1   \n",
       "2       A1 2004-01-01  3113.88072   76  BANGALORE    Gold      C1   \n",
       "3       A1 2004-01-01  5250.66144   76  BANGALORE    Gold      C1   \n",
       "4       A1 2005-01-01  1991.67456   76  BANGALORE    Gold      C1   \n",
       "\n",
       "         Segment  limit_USD  \n",
       "0  Self Employed     6000.0  \n",
       "1  Self Employed     6000.0  \n",
       "2  Self Employed     6000.0  \n",
       "3  Self Employed     6000.0  \n",
       "4  Self Employed     6000.0  "
      ]
     },
     "execution_count": 25,
     "metadata": {},
     "output_type": "execute_result"
    }
   ],
   "source": [
    "repayment_merged.head()"
   ]
  },
  {
   "cell_type": "code",
   "execution_count": 26,
   "id": "1e311fbb-abb7-451a-a640-a4cecf6c25e5",
   "metadata": {},
   "outputs": [
    {
     "data": {
      "text/html": [
       "<div>\n",
       "<style scoped>\n",
       "    .dataframe tbody tr th:only-of-type {\n",
       "        vertical-align: middle;\n",
       "    }\n",
       "\n",
       "    .dataframe tbody tr th {\n",
       "        vertical-align: top;\n",
       "    }\n",
       "\n",
       "    .dataframe thead th {\n",
       "        text-align: right;\n",
       "    }\n",
       "</style>\n",
       "<table border=\"1\" class=\"dataframe\">\n",
       "  <thead>\n",
       "    <tr style=\"text-align: right;\">\n",
       "      <th></th>\n",
       "      <th>Customer</th>\n",
       "      <th>Month</th>\n",
       "      <th>Type</th>\n",
       "      <th>Amount_USD</th>\n",
       "      <th>Age</th>\n",
       "      <th>City</th>\n",
       "      <th>Product</th>\n",
       "      <th>Company</th>\n",
       "      <th>Segment</th>\n",
       "      <th>limit_USD</th>\n",
       "    </tr>\n",
       "  </thead>\n",
       "  <tbody>\n",
       "    <tr>\n",
       "      <th>0</th>\n",
       "      <td>A1</td>\n",
       "      <td>2004-01-01</td>\n",
       "      <td>JEWELLERY</td>\n",
       "      <td>5825.64960</td>\n",
       "      <td>76</td>\n",
       "      <td>BANGALORE</td>\n",
       "      <td>Gold</td>\n",
       "      <td>C1</td>\n",
       "      <td>Self Employed</td>\n",
       "      <td>6000.0</td>\n",
       "    </tr>\n",
       "    <tr>\n",
       "      <th>1</th>\n",
       "      <td>A1</td>\n",
       "      <td>2004-01-01</td>\n",
       "      <td>PETRO</td>\n",
       "      <td>4926.67356</td>\n",
       "      <td>76</td>\n",
       "      <td>BANGALORE</td>\n",
       "      <td>Gold</td>\n",
       "      <td>C1</td>\n",
       "      <td>Self Employed</td>\n",
       "      <td>6000.0</td>\n",
       "    </tr>\n",
       "    <tr>\n",
       "      <th>2</th>\n",
       "      <td>A1</td>\n",
       "      <td>2004-01-01</td>\n",
       "      <td>CLOTHES</td>\n",
       "      <td>284.88552</td>\n",
       "      <td>76</td>\n",
       "      <td>BANGALORE</td>\n",
       "      <td>Gold</td>\n",
       "      <td>C1</td>\n",
       "      <td>Self Employed</td>\n",
       "      <td>6000.0</td>\n",
       "    </tr>\n",
       "    <tr>\n",
       "      <th>3</th>\n",
       "      <td>A1</td>\n",
       "      <td>2004-01-01</td>\n",
       "      <td>FOOD</td>\n",
       "      <td>5812.10964</td>\n",
       "      <td>76</td>\n",
       "      <td>BANGALORE</td>\n",
       "      <td>Gold</td>\n",
       "      <td>C1</td>\n",
       "      <td>Self Employed</td>\n",
       "      <td>6000.0</td>\n",
       "    </tr>\n",
       "    <tr>\n",
       "      <th>4</th>\n",
       "      <td>A1</td>\n",
       "      <td>2005-01-01</td>\n",
       "      <td>CAMERA</td>\n",
       "      <td>4436.32884</td>\n",
       "      <td>76</td>\n",
       "      <td>BANGALORE</td>\n",
       "      <td>Gold</td>\n",
       "      <td>C1</td>\n",
       "      <td>Self Employed</td>\n",
       "      <td>6000.0</td>\n",
       "    </tr>\n",
       "  </tbody>\n",
       "</table>\n",
       "</div>"
      ],
      "text/plain": [
       "  Customer      Month       Type  Amount_USD  Age       City Product Company  \\\n",
       "0       A1 2004-01-01  JEWELLERY  5825.64960   76  BANGALORE    Gold      C1   \n",
       "1       A1 2004-01-01      PETRO  4926.67356   76  BANGALORE    Gold      C1   \n",
       "2       A1 2004-01-01    CLOTHES   284.88552   76  BANGALORE    Gold      C1   \n",
       "3       A1 2004-01-01       FOOD  5812.10964   76  BANGALORE    Gold      C1   \n",
       "4       A1 2005-01-01     CAMERA  4436.32884   76  BANGALORE    Gold      C1   \n",
       "\n",
       "         Segment  limit_USD  \n",
       "0  Self Employed     6000.0  \n",
       "1  Self Employed     6000.0  \n",
       "2  Self Employed     6000.0  \n",
       "3  Self Employed     6000.0  \n",
       "4  Self Employed     6000.0  "
      ]
     },
     "execution_count": 26,
     "metadata": {},
     "output_type": "execute_result"
    }
   ],
   "source": [
    "spend_merged.head()"
   ]
  },
  {
   "cell_type": "markdown",
   "id": "56279373-cad6-41f2-ac44-01ac4e74ef5a",
   "metadata": {},
   "source": [
    "### A graph of Expense by city"
   ]
  },
  {
   "cell_type": "code",
   "execution_count": 27,
   "id": "1c7a6bf3-ca3b-436a-ad1d-eddff712a61c",
   "metadata": {},
   "outputs": [
    {
     "data": {
      "text/plain": [
       "Text(0, 0.5, 'Amount_USD')"
      ]
     },
     "execution_count": 27,
     "metadata": {},
     "output_type": "execute_result"
    },
    {
     "data": {
      "image/png": "[encoded data removed]",
      "text/plain": [
       "<Figure size 640x480 with 1 Axes>"
      ]
     },
     "metadata": {},
     "output_type": "display_data"
    }
   ],
   "source": [
    "city_spend = spend_merged.groupby('City')['Amount_USD'].sum()\n",
    "city_spend.plot(kind = 'bar',title = 'City Wise Expenditure ');\n",
    "plt.ylabel('Amount_USD')"
   ]
  },
  {
   "cell_type": "markdown",
   "id": "ecb47c30-18ba-499b-9b30-5a5bcb7ebd90",
   "metadata": {},
   "source": [
    "This plot shows us that most top spenders are situated in COCHIN and BANGALORE. This could mean higher average transaction values(luxury/lifestyle spending) and also greater credit card adoption in the commercial sectors as compared to cities like DELHI. However, this illustration contradicts with real life as DELHI is more costly in terms of living expenditure than COCHIN"
   ]
  },
  {
   "cell_type": "markdown",
   "id": "b6168c19-2466-4bec-b609-bdab49505610",
   "metadata": {},
   "source": [
    "### A graph of total repayment by segemnts"
   ]
  },
  {
   "cell_type": "code",
   "execution_count": 28,
   "id": "b2d3ee8d-8ee4-45cb-8fca-c771de4bcd95",
   "metadata": {},
   "outputs": [
    {
     "data": {
      "text/plain": [
       "Text(0, 0.5, 'Amount_USD')"
      ]
     },
     "execution_count": 28,
     "metadata": {},
     "output_type": "execute_result"
    },
    {
     "data": {
      "image/png": "[encoded data removed]",
      "text/plain": [
       "<Figure size 640x480 with 1 Axes>"
      ]
     },
     "metadata": {},
     "output_type": "display_data"
    }
   ],
   "source": [
    "segment_repay = repayment_merged.groupby('Segment')['Amount_USD'].sum()\n",
    "segment_repay.plot(kind = 'bar',title = 'Total Repayment by Segment');\n",
    "plt.ylabel('Amount_USD')"
   ]
  },
  {
   "cell_type": "markdown",
   "id": "ea057a9a-c23e-4cde-a101-55467a612945",
   "metadata": {},
   "source": [
    "This plot tells us that people that earn normal salaries potentially repay all their card debts as compared to the other segments."
   ]
  },
  {
   "cell_type": "markdown",
   "id": "191c40cf-a56a-46ae-a315-05dd2613ad59",
   "metadata": {},
   "source": [
    "### Feature Engineering\n",
    "Monthly spend and repayment summary"
   ]
  },
  {
   "cell_type": "code",
   "execution_count": 29,
   "id": "449b0748-ae57-4aab-99b9-309cd6ff6a8d",
   "metadata": {},
   "outputs": [],
   "source": [
    "monthly_spend = spend_merged.groupby(['Customer', 'Month'])['Amount_USD'].sum().reset_index(name='monthly_spend')\n",
    "monthly_repay = repayment_merged.groupby(['Customer','Month'])['Amount_USD'].sum().reset_index(name = 'monthly_repay')"
   ]
  },
  {
   "cell_type": "code",
   "execution_count": 30,
   "id": "120bc5bd-bfc7-42bc-b981-b833baf4f596",
   "metadata": {},
   "outputs": [
    {
     "data": {
      "text/html": [
       "<div>\n",
       "<style scoped>\n",
       "    .dataframe tbody tr th:only-of-type {\n",
       "        vertical-align: middle;\n",
       "    }\n",
       "\n",
       "    .dataframe tbody tr th {\n",
       "        vertical-align: top;\n",
       "    }\n",
       "\n",
       "    .dataframe thead th {\n",
       "        text-align: right;\n",
       "    }\n",
       "</style>\n",
       "<table border=\"1\" class=\"dataframe\">\n",
       "  <thead>\n",
       "    <tr style=\"text-align: right;\">\n",
       "      <th></th>\n",
       "      <th>Customer</th>\n",
       "      <th>Month</th>\n",
       "      <th>monthly_spend</th>\n",
       "    </tr>\n",
       "  </thead>\n",
       "  <tbody>\n",
       "    <tr>\n",
       "      <th>0</th>\n",
       "      <td>A1</td>\n",
       "      <td>2004-01-01</td>\n",
       "      <td>26875.72848</td>\n",
       "    </tr>\n",
       "    <tr>\n",
       "      <th>1</th>\n",
       "      <td>A1</td>\n",
       "      <td>2004-02-01</td>\n",
       "      <td>626.50380</td>\n",
       "    </tr>\n",
       "    <tr>\n",
       "      <th>2</th>\n",
       "      <td>A1</td>\n",
       "      <td>2004-05-01</td>\n",
       "      <td>4333.69572</td>\n",
       "    </tr>\n",
       "    <tr>\n",
       "      <th>3</th>\n",
       "      <td>A1</td>\n",
       "      <td>2005-01-01</td>\n",
       "      <td>4436.32884</td>\n",
       "    </tr>\n",
       "    <tr>\n",
       "      <th>4</th>\n",
       "      <td>A1</td>\n",
       "      <td>2005-02-01</td>\n",
       "      <td>9887.63760</td>\n",
       "    </tr>\n",
       "  </tbody>\n",
       "</table>\n",
       "</div>"
      ],
      "text/plain": [
       "  Customer      Month  monthly_spend\n",
       "0       A1 2004-01-01    26875.72848\n",
       "1       A1 2004-02-01      626.50380\n",
       "2       A1 2004-05-01     4333.69572\n",
       "3       A1 2005-01-01     4436.32884\n",
       "4       A1 2005-02-01     9887.63760"
      ]
     },
     "execution_count": 30,
     "metadata": {},
     "output_type": "execute_result"
    }
   ],
   "source": [
    "monthly_spend.head()"
   ]
  },
  {
   "cell_type": "code",
   "execution_count": 31,
   "id": "337da4a6-5034-48cc-baa9-c36deb974d8a",
   "metadata": {},
   "outputs": [
    {
     "data": {
      "text/html": [
       "<div>\n",
       "<style scoped>\n",
       "    .dataframe tbody tr th:only-of-type {\n",
       "        vertical-align: middle;\n",
       "    }\n",
       "\n",
       "    .dataframe tbody tr th {\n",
       "        vertical-align: top;\n",
       "    }\n",
       "\n",
       "    .dataframe thead th {\n",
       "        text-align: right;\n",
       "    }\n",
       "</style>\n",
       "<table border=\"1\" class=\"dataframe\">\n",
       "  <thead>\n",
       "    <tr style=\"text-align: right;\">\n",
       "      <th></th>\n",
       "      <th>Customer</th>\n",
       "      <th>Month</th>\n",
       "      <th>monthly_repay</th>\n",
       "    </tr>\n",
       "  </thead>\n",
       "  <tbody>\n",
       "    <tr>\n",
       "      <th>0</th>\n",
       "      <td>A1</td>\n",
       "      <td>2004-01-01</td>\n",
       "      <td>26902.00092</td>\n",
       "    </tr>\n",
       "    <tr>\n",
       "      <th>1</th>\n",
       "      <td>A1</td>\n",
       "      <td>2004-02-01</td>\n",
       "      <td>1415.57316</td>\n",
       "    </tr>\n",
       "    <tr>\n",
       "      <th>2</th>\n",
       "      <td>A1</td>\n",
       "      <td>2005-01-01</td>\n",
       "      <td>1991.67456</td>\n",
       "    </tr>\n",
       "    <tr>\n",
       "      <th>3</th>\n",
       "      <td>A1</td>\n",
       "      <td>2005-02-01</td>\n",
       "      <td>7966.91244</td>\n",
       "    </tr>\n",
       "    <tr>\n",
       "      <th>4</th>\n",
       "      <td>A1</td>\n",
       "      <td>2005-07-01</td>\n",
       "      <td>3566.12088</td>\n",
       "    </tr>\n",
       "  </tbody>\n",
       "</table>\n",
       "</div>"
      ],
      "text/plain": [
       "  Customer      Month  monthly_repay\n",
       "0       A1 2004-01-01    26902.00092\n",
       "1       A1 2004-02-01     1415.57316\n",
       "2       A1 2005-01-01     1991.67456\n",
       "3       A1 2005-02-01     7966.91244\n",
       "4       A1 2005-07-01     3566.12088"
      ]
     },
     "execution_count": 31,
     "metadata": {},
     "output_type": "execute_result"
    }
   ],
   "source": [
    "monthly_repay.head()"
   ]
  },
  {
   "cell_type": "code",
   "execution_count": 32,
   "id": "db7dd239-2127-4e38-8a1d-719e5b103c7c",
   "metadata": {},
   "outputs": [],
   "source": [
    "# Merging both summaries\n",
    "behavior_df = pd.merge(monthly_spend, monthly_repay, on=['Customer', 'Month'], how='outer').fillna(0)"
   ]
  },
  {
   "cell_type": "code",
   "execution_count": 33,
   "id": "d7089c48-b79b-4ba3-9b42-b777d4a93990",
   "metadata": {},
   "outputs": [],
   "source": [
    "# Adding credit limit from acquisition\n",
    "behavior_df = pd.merge(behavior_df, customer_acquisition[['Customer', 'limit_USD']], on='Customer', how='left')"
   ]
  },
  {
   "cell_type": "code",
   "execution_count": 34,
   "id": "426c4e04-b141-4ae3-9609-5e09b9f2ba6e",
   "metadata": {},
   "outputs": [],
   "source": [
    "# Derived metrics\n",
    "behavior_df['utilization_ratio'] = behavior_df['monthly_spend'] / behavior_df['limit_USD']\n",
    "behavior_df['repayment_ratio'] = behavior_df['monthly_repay'] / behavior_df['monthly_spend'].replace(0, np.nan)\n",
    "behavior_df['over_limit_flag'] = (behavior_df['monthly_spend'] > behavior_df['limit_USD']).astype(int)\n"
   ]
  },
  {
   "cell_type": "code",
   "execution_count": 35,
   "id": "730b9768-5823-47a4-ab65-1e5f0ed7f209",
   "metadata": {},
   "outputs": [
    {
     "data": {
      "text/html": [
       "<div>\n",
       "<style scoped>\n",
       "    .dataframe tbody tr th:only-of-type {\n",
       "        vertical-align: middle;\n",
       "    }\n",
       "\n",
       "    .dataframe tbody tr th {\n",
       "        vertical-align: top;\n",
       "    }\n",
       "\n",
       "    .dataframe thead th {\n",
       "        text-align: right;\n",
       "    }\n",
       "</style>\n",
       "<table border=\"1\" class=\"dataframe\">\n",
       "  <thead>\n",
       "    <tr style=\"text-align: right;\">\n",
       "      <th></th>\n",
       "      <th>Customer</th>\n",
       "      <th>Month</th>\n",
       "      <th>monthly_spend</th>\n",
       "      <th>monthly_repay</th>\n",
       "      <th>limit_USD</th>\n",
       "      <th>utilization_ratio</th>\n",
       "      <th>repayment_ratio</th>\n",
       "      <th>over_limit_flag</th>\n",
       "    </tr>\n",
       "  </thead>\n",
       "  <tbody>\n",
       "    <tr>\n",
       "      <th>0</th>\n",
       "      <td>A1</td>\n",
       "      <td>2004-01-01</td>\n",
       "      <td>26875.72848</td>\n",
       "      <td>26902.00092</td>\n",
       "      <td>6000.000</td>\n",
       "      <td>4.479288</td>\n",
       "      <td>1.000978</td>\n",
       "      <td>1</td>\n",
       "    </tr>\n",
       "    <tr>\n",
       "      <th>1</th>\n",
       "      <td>A1</td>\n",
       "      <td>2004-02-01</td>\n",
       "      <td>626.50380</td>\n",
       "      <td>1415.57316</td>\n",
       "      <td>6000.000</td>\n",
       "      <td>0.104417</td>\n",
       "      <td>2.259481</td>\n",
       "      <td>0</td>\n",
       "    </tr>\n",
       "    <tr>\n",
       "      <th>2</th>\n",
       "      <td>A1</td>\n",
       "      <td>2004-05-01</td>\n",
       "      <td>4333.69572</td>\n",
       "      <td>0.00000</td>\n",
       "      <td>6000.000</td>\n",
       "      <td>0.722283</td>\n",
       "      <td>0.000000</td>\n",
       "      <td>0</td>\n",
       "    </tr>\n",
       "    <tr>\n",
       "      <th>3</th>\n",
       "      <td>A1</td>\n",
       "      <td>2005-01-01</td>\n",
       "      <td>4436.32884</td>\n",
       "      <td>1991.67456</td>\n",
       "      <td>6000.000</td>\n",
       "      <td>0.739388</td>\n",
       "      <td>0.448947</td>\n",
       "      <td>0</td>\n",
       "    </tr>\n",
       "    <tr>\n",
       "      <th>4</th>\n",
       "      <td>A1</td>\n",
       "      <td>2005-02-01</td>\n",
       "      <td>9887.63760</td>\n",
       "      <td>7966.91244</td>\n",
       "      <td>6000.000</td>\n",
       "      <td>1.647940</td>\n",
       "      <td>0.805745</td>\n",
       "      <td>1</td>\n",
       "    </tr>\n",
       "    <tr>\n",
       "      <th>...</th>\n",
       "      <td>...</td>\n",
       "      <td>...</td>\n",
       "      <td>...</td>\n",
       "      <td>...</td>\n",
       "      <td>...</td>\n",
       "      <td>...</td>\n",
       "      <td>...</td>\n",
       "      <td>...</td>\n",
       "    </tr>\n",
       "    <tr>\n",
       "      <th>1097</th>\n",
       "      <td>A95</td>\n",
       "      <td>2004-01-01</td>\n",
       "      <td>2884.81800</td>\n",
       "      <td>4432.87152</td>\n",
       "      <td>6000.000</td>\n",
       "      <td>0.480803</td>\n",
       "      <td>1.536621</td>\n",
       "      <td>0</td>\n",
       "    </tr>\n",
       "    <tr>\n",
       "      <th>1098</th>\n",
       "      <td>A96</td>\n",
       "      <td>2004-01-01</td>\n",
       "      <td>656.75592</td>\n",
       "      <td>3731.90760</td>\n",
       "      <td>1200.000</td>\n",
       "      <td>0.547297</td>\n",
       "      <td>5.682336</td>\n",
       "      <td>0</td>\n",
       "    </tr>\n",
       "    <tr>\n",
       "      <th>1099</th>\n",
       "      <td>A97</td>\n",
       "      <td>2004-01-01</td>\n",
       "      <td>1668.21912</td>\n",
       "      <td>1462.49880</td>\n",
       "      <td>120.000</td>\n",
       "      <td>13.901826</td>\n",
       "      <td>0.876683</td>\n",
       "      <td>1</td>\n",
       "    </tr>\n",
       "    <tr>\n",
       "      <th>1100</th>\n",
       "      <td>A98</td>\n",
       "      <td>2004-01-01</td>\n",
       "      <td>3414.25272</td>\n",
       "      <td>4053.78684</td>\n",
       "      <td>120.012</td>\n",
       "      <td>28.449261</td>\n",
       "      <td>1.187313</td>\n",
       "      <td>1</td>\n",
       "    </tr>\n",
       "    <tr>\n",
       "      <th>1101</th>\n",
       "      <td>A99</td>\n",
       "      <td>2004-01-01</td>\n",
       "      <td>1082.21064</td>\n",
       "      <td>308.19276</td>\n",
       "      <td>120.024</td>\n",
       "      <td>9.016619</td>\n",
       "      <td>0.284781</td>\n",
       "      <td>1</td>\n",
       "    </tr>\n",
       "  </tbody>\n",
       "</table>\n",
       "<p>1102 rows × 8 columns</p>\n",
       "</div>"
      ],
      "text/plain": [
       "     Customer      Month  monthly_spend  monthly_repay  limit_USD  \\\n",
       "0          A1 2004-01-01    26875.72848    26902.00092   6000.000   \n",
       "1          A1 2004-02-01      626.50380     1415.57316   6000.000   \n",
       "2          A1 2004-05-01     4333.69572        0.00000   6000.000   \n",
       "3          A1 2005-01-01     4436.32884     1991.67456   6000.000   \n",
       "4          A1 2005-02-01     9887.63760     7966.91244   6000.000   \n",
       "...       ...        ...            ...            ...        ...   \n",
       "1097      A95 2004-01-01     2884.81800     4432.87152   6000.000   \n",
       "1098      A96 2004-01-01      656.75592     3731.90760   1200.000   \n",
       "1099      A97 2004-01-01     1668.21912     1462.49880    120.000   \n",
       "1100      A98 2004-01-01     3414.25272     4053.78684    120.012   \n",
       "1101      A99 2004-01-01     1082.21064      308.19276    120.024   \n",
       "\n",
       "      utilization_ratio  repayment_ratio  over_limit_flag  \n",
       "0              4.479288         1.000978                1  \n",
       "1              0.104417         2.259481                0  \n",
       "2              0.722283         0.000000                0  \n",
       "3              0.739388         0.448947                0  \n",
       "4              1.647940         0.805745                1  \n",
       "...                 ...              ...              ...  \n",
       "1097           0.480803         1.536621                0  \n",
       "1098           0.547297         5.682336                0  \n",
       "1099          13.901826         0.876683                1  \n",
       "1100          28.449261         1.187313                1  \n",
       "1101           9.016619         0.284781                1  \n",
       "\n",
       "[1102 rows x 8 columns]"
      ]
     },
     "execution_count": 35,
     "metadata": {},
     "output_type": "execute_result"
    }
   ],
   "source": [
    "behavior_df"
   ]
  },
  {
   "cell_type": "markdown",
   "id": "d1e5ff97-da72-4a14-8a97-780c9d9bee47",
   "metadata": {},
   "source": [
    "Utilization Ratio calculation calculates how much of their available credit the customers are using. (0.5 shows that the customer is using 50% of their available credit. 1 shows customers have maxed out their credit limit).\n",
    "Repayment ration calculation: measures what percentage of monthly spending that the customer is repaying. (1 shows customers repay 100% of their spending, 0.5 shows customers repay inly half of thier spending, 0 shows customers make no minimum payment).\n",
    "Overlimit flag: This creates a binary flag indicating if the customer exceeded their credit limit. (1 = True, showing spending is greater than the limit. 0 = False, showing spending is less than the limit)"
   ]
  },
  {
   "cell_type": "markdown",
   "id": "0fd746bb-c2bd-476a-bdf4-bfc8d72ddf72",
   "metadata": {},
   "source": [
    "## EXPLORATORY DATA ANALYSIS"
   ]
  },
  {
   "cell_type": "code",
   "execution_count": 36,
   "id": "fefef035-3c01-4854-8bdc-01635a34b7a5",
   "metadata": {},
   "outputs": [
    {
     "data": {
      "text/plain": [
       "<Figure size 1000x500 with 0 Axes>"
      ]
     },
     "metadata": {},
     "output_type": "display_data"
    },
    {
     "data": {
      "image/png": "[encoded data removed]",
      "text/plain": [
       "<Figure size 1200x600 with 1 Axes>"
      ]
     },
     "metadata": {},
     "output_type": "display_data"
    }
   ],
   "source": [
    "# Spend trends\n",
    "plt.figure(figsize=(10, 5))\n",
    "monthly_trend = behavior_df.groupby('Month')[['monthly_spend', 'monthly_repay']].sum()\n",
    "monthly_trend.plot(title='Monthly Spend vs Repayment', figsize=(12, 6));"
   ]
  },
  {
   "cell_type": "markdown",
   "id": "917ce4f0-31a8-4c59-93ff-d530672874b4",
   "metadata": {},
   "source": [
    "The lines for monthly spend and monthly repayment follow a similar pattern, indicating that customers generally attempt to repay a consistent portion of what they spend. This reflects a level of financial responsibility across the customer base. There is a sharp spike in both spending and repayment at the beginning of the dataset, which may reflect a large-scale onboarding of customers or promotional credit usage. Despite high spending, repayment is also equally high.\n",
    "In Mid-2004 to Early-2005, both spending and repayment dropped and stabilized.\n",
    "Around mid-2005 and early 2006, there were significant spikes in spending, with repayment lagging slightly."
   ]
  },
  {
   "cell_type": "code",
   "execution_count": 37,
   "id": "d2eeae60-4f1f-4adc-89c8-9c217573462e",
   "metadata": {},
   "outputs": [
    {
     "data": {
      "image/png": "[encoded data removed]",
      "text/plain": [
       "<Figure size 600x400 with 1 Axes>"
      ]
     },
     "metadata": {},
     "output_type": "display_data"
    }
   ],
   "source": [
    "\n",
    "plt.figure(figsize=(6, 4))\n",
    "sns.countplot(x='over_limit_flag', data=behavior_df, hue='over_limit_flag',legend = False)\n",
    "plt.xticks([0, 1], ['Within Limit', 'Over Limit'])\n",
    "plt.title('Count of Customers Over and Within Credit Limit')\n",
    "plt.xlabel('Customer Credit Behavior')\n",
    "plt.ylabel('Number of Customers')\n",
    "plt.tight_layout()\n",
    "plt.show()\n"
   ]
  },
  {
   "cell_type": "code",
   "execution_count": 38,
   "id": "25e42c29-158e-4990-8228-01eed55fe1de",
   "metadata": {},
   "outputs": [
    {
     "data": {
      "image/png": "[encoded data removed]",
      "text/plain": [
       "<Figure size 1000x600 with 1 Axes>"
      ]
     },
     "metadata": {},
     "output_type": "display_data"
    }
   ],
   "source": [
    "\n",
    "plt.figure(figsize=(10, 6))\n",
    "sns.histplot(behavior_df['utilization_ratio'], kde=True, bins=50, color='skyblue')\n",
    "plt.axvline(1.0, color='red', linestyle='--', label='Credit Limit Threshold (1.0)')\n",
    "plt.title('Distribution of Customer Credit Utilization Ratios')\n",
    "plt.xlabel('Utilization Ratio')\n",
    "plt.ylabel('Number of Customers')\n",
    "plt.legend()\n",
    "plt.tight_layout()\n",
    "plt.show()\n"
   ]
  },
  {
   "cell_type": "markdown",
   "id": "e115a6f4-d36e-4eea-97f0-91c9496784e4",
   "metadata": {},
   "source": [
    "Highly Skewed Distribution\n",
    "\n",
    "The majority of customers have a utilization ratio clustered near 0–1, suggesting conservative credit usage. This indicates a large portion of the customer base is not heavily reliant on credit, which may reflect strong financial health or credit underutilization.\n",
    "\n",
    "Long Right Tail (Heavy Users)\n",
    "\n",
    "A significant long tail stretches beyond 100%, with some values exceeding 200% utilization.\n",
    "These extreme values suggest that some customers are spending well beyond their available credit limits."
   ]
  },
  {
   "cell_type": "code",
   "execution_count": 39,
   "id": "6e836b43-06f0-4de6-8982-169d141e4f61",
   "metadata": {},
   "outputs": [
    {
     "data": {
      "image/png": "[encoded data removed]",
      "text/plain": [
       "<Figure size 800x500 with 1 Axes>"
      ]
     },
     "metadata": {},
     "output_type": "display_data"
    }
   ],
   "source": [
    "# Repayment behavior by product\n",
    "repayment_merged['repayment'] = repayment_merged['Amount_USD']\n",
    "product_repay = repayment_merged.groupby('Product')['repayment'].sum().sort_values(ascending=False)\n",
    "product_repay.plot(kind='bar', title='Total Repayment by Card Product', figsize=(8, 5));"
   ]
  },
  {
   "cell_type": "markdown",
   "id": "77f49b0c-ab28-462c-82dd-08256be958f0",
   "metadata": {},
   "source": [
    "The Silver, Gold, and Platinum credit cards represent the entry-level, mid-tier, and premium tiers, respectively. Silver credit cards are for first-time credit card holders with low to moderate income. Gold cards are for middle-income earners or those with good credit history. Platinum cards are for high-income earners and premium customers. From this plot, we can see the Gold cardholders have a higher repayment amount than both Platinum and Silver, which proves the point of them having a really good credit history."
   ]
  },
  {
   "cell_type": "markdown",
   "id": "58120b12-acc3-48be-8a4c-7a10f119e981",
   "metadata": {},
   "source": [
    "### Determining which customers have the highest monthly expense"
   ]
  },
  {
   "cell_type": "code",
   "execution_count": 40,
   "id": "62cd88fe-2ba6-48dc-b924-523e06d8e5a8",
   "metadata": {},
   "outputs": [
    {
     "data": {
      "text/plain": [
       "Text(0, 0.5, 'Monthly Expense')"
      ]
     },
     "execution_count": 40,
     "metadata": {},
     "output_type": "execute_result"
    },
    {
     "data": {
      "image/png": "[encoded data removed]",
      "text/plain": [
       "<Figure size 640x480 with 1 Axes>"
      ]
     },
     "metadata": {},
     "output_type": "display_data"
    }
   ],
   "source": [
    "top_spenders = (\n",
    "    behavior_df.groupby('Customer')['monthly_spend']\n",
    "    .sum().sort_values(ascending=False).head(10).reset_index())\n",
    "top_spenders.set_index('Customer',inplace = True)\n",
    "top_spenders.plot(kind = 'bar',title = 'Top 10 Customers with the highest Monthly Expense');\n",
    "plt.ylabel('Monthly Expense')"
   ]
  },
  {
   "cell_type": "code",
   "execution_count": null,
   "id": "c9584a0a-cba8-4997-95e0-4810d48c7b81",
   "metadata": {},
   "outputs": [],
   "source": []
  }
 ],
 "metadata": {
  "kernelspec": {
   "display_name": "Python 3 (ipykernel)",
   "language": "python",
   "name": "python3"
  },
  "language_info": {
   "codemirror_mode": {
    "name": "ipython",
    "version": 3
   },
   "file_extension": ".py",
   "mimetype": "text/x-python",
   "name": "python",
   "nbconvert_exporter": "python",
   "pygments_lexer": "ipython3",
   "version": "3.12.4"
  }
 },
 "nbformat": 4,
 "nbformat_minor": 5
}
